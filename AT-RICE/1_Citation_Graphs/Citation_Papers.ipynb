{
 "metadata": {
  "name": "",
  "signature": "sha256:584ef357ecca37b9405c78057d23402c467e6a3b368721507a5bfe55e3624892"
 },
 "nbformat": 3,
 "nbformat_minor": 0,
 "worksheets": [
  {
   "cells": [
    {
     "cell_type": "code",
     "collapsed": false,
     "input": [
      "\"\"\"\n",
      "Provided code for Application portion of Module 1\n",
      "\n",
      "Imports physics citation graph \n",
      "\"\"\"\n",
      "\n",
      "import urllib2\n",
      "\n",
      "###################################\n",
      "# Code for loading citation graph\n",
      "\n",
      "CITATION_URL = \"http://storage.googleapis.com/codeskulptor-alg/alg_phys-cite.txt\"\n",
      "\n",
      "def load_graph(graph_url):\n",
      "    \"\"\"\n",
      "    Function that loads a graph given the URL\n",
      "    for a text representation of the graph\n",
      "    \n",
      "    Returns a dictionary that models a graph\n",
      "    \"\"\"\n",
      "    graph_file = urllib2.urlopen(graph_url)\n",
      "    graph_text = graph_file.read()\n",
      "    graph_lines = graph_text.split('\\n')\n",
      "    graph_lines = graph_lines[ : -1]\n",
      "    \n",
      "    print \"Loaded graph with\", len(graph_lines), \"nodes\"\n",
      "    \n",
      "    answer_graph = {}\n",
      "    for line in graph_lines:\n",
      "        neighbors = line.split(' ')\n",
      "        node = int(neighbors[0])\n",
      "        answer_graph[node] = set([])\n",
      "        for neighbor in neighbors[1 : -1]:\n",
      "            answer_graph[node].add(int(neighbor))\n",
      "\n",
      "    return answer_graph"
     ],
     "language": "python",
     "metadata": {},
     "outputs": [],
     "prompt_number": 89
    },
    {
     "cell_type": "code",
     "collapsed": false,
     "input": [
      "def make_complete_graph(num_nodes):\n",
      "    graph_dict={}\n",
      "    for i in range(0,num_nodes):\n",
      "        graph_dict[i]=set([x for x in range(0,num_nodes) if x!=i])\n",
      "    return graph_dict\n",
      "\n",
      "\n",
      "def compute_in_degrees(digraph):\n",
      "    degree_dict={}\n",
      "    edges=[]\n",
      "    for key in digraph.iterkeys():\n",
      "        for node in digraph[key]:\n",
      "            edges.append([key,node])\n",
      "        degree_dict[key]=0\n",
      "    for edge in edges:\n",
      "        if edge[1] in degree_dict:\n",
      "            degree_dict[edge[1]]+=1\n",
      "        else:\n",
      "            degree_dict[edge[1]]=1\n",
      "    return degree_dict\n",
      "\n",
      "def in_degree_distribution(digraph):\n",
      "    indegrees = compute_in_degrees(digraph)\n",
      "    deg_dist_dict={}\n",
      "    for _,value in indegrees.iteritems():\n",
      "        if value in deg_dist_dict:\n",
      "            deg_dist_dict[value]+=1\n",
      "        else:\n",
      "            deg_dist_dict[value]=1\n",
      "    for key in deg_dist_dict.iterkeys():\n",
      "        deg_dist_dict[key]=deg_dist_dict[key]/27770.\n",
      "        \n",
      "    return deg_dist_dict"
     ],
     "language": "python",
     "metadata": {},
     "outputs": [],
     "prompt_number": 90
    },
    {
     "cell_type": "code",
     "collapsed": false,
     "input": [
      "citation_graph = load_graph(CITATION_URL)"
     ],
     "language": "python",
     "metadata": {},
     "outputs": [
      {
       "output_type": "stream",
       "stream": "stdout",
       "text": [
        "Loaded graph with 27770 nodes\n"
       ]
      }
     ],
     "prompt_number": 91
    },
    {
     "cell_type": "code",
     "collapsed": false,
     "input": [
      "degdist=in_degree_distribution(citation_graph)"
     ],
     "language": "python",
     "metadata": {},
     "outputs": [],
     "prompt_number": 92
    },
    {
     "cell_type": "code",
     "collapsed": false,
     "input": [
      "\n",
      "import matplotlib.pyplot as plt\n",
      "import numpy as np\n",
      "import matplotlib.pylab as pylab\n",
      "pylab.rcParams['figure.figsize'] = 10, 6"
     ],
     "language": "python",
     "metadata": {},
     "outputs": [],
     "prompt_number": 93
    },
    {
     "cell_type": "code",
     "collapsed": false,
     "input": [
      "xaxis = []\n",
      "yaxis = []\n",
      "for key,value in degdist.iteritems():\n",
      "    if key!=0:\n",
      "        xaxis.append(key)\n",
      "        yaxis.append(value)\n",
      "\n",
      "plt.xscale(\"log\")\n",
      "plt.xlabel(\"in-degree of nodes\")\n",
      "plt.yscale(\"log\")\n",
      "plt.ylabel(\"normalized distribution\")\n",
      "plt.title(\"In-degree normalized distribution\") \n",
      "plt.plot(xaxis, yaxis, 'g.')\n",
      "plt.show()"
     ],
     "language": "python",
     "metadata": {},
     "outputs": [
      {
       "metadata": {},
       "output_type": "display_data",
       "png": "[encoded data removed]",
       "text": [
        "<matplotlib.figure.Figure at 0x10d737e90>"
       ]
      }
     ],
     "prompt_number": 94
    },
    {
     "cell_type": "code",
     "collapsed": false,
     "input": [
      "import random\n",
      "def ER_Algo(nodes,prob):\n",
      "    digraph = {}\n",
      "    for node in range(0,nodes):\n",
      "        digraph[node]=set()\n",
      "        for node2 in range(0,nodes):\n",
      "            if node==node2:\n",
      "                continue\n",
      "            else:\n",
      "                if random.randrange(0,100)<prob*100:\n",
      "                    digraph[node].add(node2)\n",
      "    return digraph"
     ],
     "language": "python",
     "metadata": {},
     "outputs": [],
     "prompt_number": 95
    },
    {
     "cell_type": "code",
     "collapsed": false,
     "input": [
      "rand_graph = ER_Algo(3000,.02)"
     ],
     "language": "python",
     "metadata": {},
     "outputs": [],
     "prompt_number": 96
    },
    {
     "cell_type": "code",
     "collapsed": false,
     "input": [
      "degdist=in_degree_distribution(rand_graph)"
     ],
     "language": "python",
     "metadata": {},
     "outputs": [],
     "prompt_number": 97
    },
    {
     "cell_type": "code",
     "collapsed": false,
     "input": [
      "xaxis = []\n",
      "yaxis = []\n",
      "for key,value in degdist.iteritems():\n",
      "    if key!=0:\n",
      "        xaxis.append(key)\n",
      "        yaxis.append(value)\n",
      "\n",
      "plt.xscale(\"log\")\n",
      "plt.xlabel(\"in-degree of nodes\")\n",
      "plt.yscale(\"log\")\n",
      "plt.ylabel(\"normalized distribution\")\n",
      "plt.title(\"In-degree normalized distribution\") \n",
      "plt.plot(xaxis, yaxis, 'g.')\n",
      "plt.show()"
     ],
     "language": "python",
     "metadata": {},
     "outputs": [
      {
       "metadata": {},
       "output_type": "display_data",
       "png": "[encoded data removed]",
       "text": [
        "<matplotlib.figure.Figure at 0x10d835dd0>"
       ]
      }
     ],
     "prompt_number": 99
    },
    {
     "cell_type": "code",
     "collapsed": false,
     "input": [
      "def DPA_Algo(n,m):\n",
      "    digraph = make_complete_graph(m) \n",
      "    in_degree = compute_in_degrees(digraph)\n",
      "    nodes_list=[]\n",
      "    for key,value in in_degree.iteritems():\n",
      "        nodes_list+=[key]*(value+1)\n",
      "    for i in range(m,n):\n",
      "        nodes_selected=set()\n",
      "        for j in range(0,m):\n",
      "            nodes_selected.add(random.choice(nodes_list))\n",
      "        digraph[i]=nodes_selected\n",
      "        for node in nodes_selected:\n",
      "            in_degree[node]+=1\n",
      "            nodes_list+=[node]\n",
      "        nodes_list+=[i]\n",
      "        in_degree[i]=0\n",
      "    return digraph"
     ],
     "language": "python",
     "metadata": {},
     "outputs": [],
     "prompt_number": 100
    },
    {
     "cell_type": "code",
     "collapsed": false,
     "input": [
      "graph_dpa = DPA_Algo(27770,13)"
     ],
     "language": "python",
     "metadata": {},
     "outputs": [],
     "prompt_number": 101
    },
    {
     "cell_type": "code",
     "collapsed": false,
     "input": [
      "degdist=in_degree_distribution(graph_dpa)"
     ],
     "language": "python",
     "metadata": {},
     "outputs": [],
     "prompt_number": 104
    },
    {
     "cell_type": "code",
     "collapsed": false,
     "input": [
      "xaxis = []\n",
      "yaxis = []\n",
      "for key,value in degdist.iteritems():\n",
      "    if key!=0:\n",
      "        xaxis.append(key)\n",
      "        yaxis.append(value)\n",
      "\n",
      "plt.xscale(\"log\")\n",
      "plt.xlabel(\"in-degree of nodes\")\n",
      "plt.yscale(\"log\")\n",
      "plt.ylabel(\"normalized distribution\")\n",
      "plt.title(\"In-degree normalized distribution\") \n",
      "plt.plot(xaxis, yaxis, 'g.')\n",
      "plt.show()"
     ],
     "language": "python",
     "metadata": {},
     "outputs": [
      {
       "metadata": {},
       "output_type": "display_data",
       "png": "[encoded data removed]",
       "text": [
        "<matplotlib.figure.Figure at 0x10d7fde10>"
       ]
      }
     ],
     "prompt_number": 105
    },
    {
     "cell_type": "code",
     "collapsed": false,
     "input": [],
     "language": "python",
     "metadata": {},
     "outputs": [],
     "prompt_number": 88
    },
    {
     "cell_type": "code",
     "collapsed": false,
     "input": [],
     "language": "python",
     "metadata": {},
     "outputs": []
    }
   ],
   "metadata": {}
  }
 ]
}