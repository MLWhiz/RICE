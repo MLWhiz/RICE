{
 "metadata": {
  "name": "",
  "signature": "sha256:901b5655943e7ff22a37a76a0bb28f6c55b237981392c106124122a660eb9fb5"
 },
 "nbformat": 3,
 "nbformat_minor": 0,
 "worksheets": [
  {
   "cells": [
    {
     "cell_type": "code",
     "collapsed": false,
     "input": [
      "EX_GRAPH0 = {0:set([1,2]),1:set([]),2:set([])}\n",
      "EX_GRAPH1 = {0:set([1,4,5]),1:set([2,6]) , 2:set([3]),3:set([0]),4:set([1]),5:set([2]),6:set([])}\n",
      "EX_GRAPH2 = {0:set([1,4,5]), 1:set([2,6]), 2:set([3,7]), 3:set([7]),4:set([1]),5:set([2]),6:set([]),7:set([3]),8:set([1,2]),9:set([0,3,4,5,6,7])}\n"
     ],
     "language": "python",
     "metadata": {},
     "outputs": [],
     "prompt_number": 1
    },
    {
     "cell_type": "code",
     "collapsed": false,
     "input": [
      "def make_complete_graph(num_nodes):\n",
      "    graph_dict={}\n",
      "    for i in range(0,num_nodes):\n",
      "        graph_dict[i]=set([x for x in range(0,num_nodes) if x!=i])\n",
      "    return graph_dict"
     ],
     "language": "python",
     "metadata": {},
     "outputs": [],
     "prompt_number": 2
    },
    {
     "cell_type": "code",
     "collapsed": false,
     "input": [
      "def compute_in_degrees(digraph):\n",
      "    degree_dict={}\n",
      "    edges=[]\n",
      "    for key in digraph.iterkeys():\n",
      "        for node in digraph[key]:\n",
      "            edges.append([key,node])\n",
      "        degree_dict[key]=0\n",
      "    for edge in edges:\n",
      "        if edge[1] in degree_dict:\n",
      "            degree_dict[edge[1]]+=1\n",
      "        else:\n",
      "            degree_dict[edge[1]]=1\n",
      "    return degree_dict\n",
      "print compute_in_degrees(EX_GRAPH2)"
     ],
     "language": "python",
     "metadata": {},
     "outputs": [
      {
       "output_type": "stream",
       "stream": "stdout",
       "text": [
        "{0: 1, 1: 3, 2: 3, 3: 3, 4: 2, 5: 2, 6: 2, 7: 3, 8: 0, 9: 0}\n"
       ]
      }
     ],
     "prompt_number": 5
    },
    {
     "cell_type": "code",
     "collapsed": false,
     "input": [
      "def in_degree_distribution(digraph):\n",
      "    indegrees = compute_in_degrees(digraph)\n",
      "    deg_dist_dict={}\n",
      "    for _,value in indegrees.iteritems():\n",
      "        if value in deg_dist_dict:\n",
      "            deg_dist_dict[value]+=1\n",
      "        else:\n",
      "            deg_dist_dict[value]=1\n",
      "    return deg_dist_dict"
     ],
     "language": "python",
     "metadata": {},
     "outputs": [],
     "prompt_number": 4
    }
   ],
   "metadata": {}
  }
 ]
}