{
 "metadata": {
  "name": "",
  "signature": "sha256:27c08a525baecc64e1bde8489d010cc63739712d654360a87bd81ce1b38adddd"
 },
 "nbformat": 3,
 "nbformat_minor": 0,
 "worksheets": [
  {
   "cells": [
    {
     "cell_type": "code",
     "collapsed": false,
     "input": [
      "''' # Project '''\n",
      "\n",
      "def build_scoring_matrix(alphabet, diag_score, off_diag_score, dash_score): \n",
      "    '''Build Scoring Matrix'''\n",
      "    scoring_dict = {}\n",
      "    \n",
      "    alphabet_new = set(list(alphabet))\n",
      "    alphabet_new.add(\"-\")\n",
      "    for elem1 in alphabet_new:\n",
      "        scoring_dict[elem1] = {}\n",
      "        for elem2 in alphabet_new:\n",
      "            if elem2==elem1 and elem1!=\"-\":\n",
      "                scoring_dict[elem1][elem2] = diag_score\n",
      "            elif elem2==elem1 and elem1==\"-\":\n",
      "                scoring_dict[elem1][elem2] = dash_score\n",
      "            elif elem2!=elem1 and (elem1==\"-\" or elem2==\"-\"):\n",
      "                scoring_dict[elem1][elem2] = dash_score\n",
      "            elif elem2!=elem1 and (elem1!=\"-\" and elem2!=\"-\"):\n",
      "                scoring_dict[elem1][elem2] = off_diag_score\n",
      "    return scoring_dict\n",
      "\n",
      "\n",
      "\n",
      "def compute_alignment_matrix(seq_x, seq_y, scoring_matrix, global_flag):\n",
      "    '''compute_alignment_matrix'''\n",
      "    ind_m = len(seq_x)+1\n",
      "    ind_n = len(seq_y)+1\n",
      "    alignment_matrix = [[0 for _ in range(0,ind_n)] for _ in range(0,ind_m)]\n",
      "    alignment_matrix[0][0] = 0 \n",
      "    for ind_i in range(1,ind_m):\n",
      "        if global_flag:\n",
      "            alignment_matrix[ind_i][0] =  alignment_matrix[ind_i-1][0] + scoring_matrix[seq_x[ind_i-1]]['-']\n",
      "        else:\n",
      "            alignment_matrix[ind_i][0] = max(0, alignment_matrix[ind_i-1][0] + scoring_matrix[seq_x[ind_i-1]]['-'])\n",
      "    for ind_j in range(1,ind_n):\n",
      "        if global_flag:\n",
      "            alignment_matrix[0][ind_j] =  alignment_matrix[0][ind_j-1] + scoring_matrix['-'][seq_y[ind_j-1]]\n",
      "        else:\n",
      "            alignment_matrix[0][ind_j] = max(0, alignment_matrix[0][ind_j-1] + scoring_matrix['-'][seq_y[ind_j-1]])\n",
      "    for ind_i in range(1,ind_m):\n",
      "        for ind_j in range(1,ind_n):\n",
      "            if global_flag:\n",
      "                alignment_matrix[ind_i][ind_j] = max( (alignment_matrix[ind_i][ind_j-1] + scoring_matrix['-'][seq_y[ind_j-1]]) , (alignment_matrix[ind_i-1][ind_j-1] + scoring_matrix[seq_x[ind_i-1]][seq_y[ind_j-1]]) , (alignment_matrix[ind_i-1][ind_j] + scoring_matrix[seq_x[ind_i-1]][\"-\"]))\n",
      "            else:\n",
      "                alignment_matrix[ind_i][ind_j] = max( 0, (alignment_matrix[ind_i][ind_j-1] + scoring_matrix['-'][seq_y[ind_j-1]]) , (alignment_matrix[ind_i-1][ind_j-1] + scoring_matrix[seq_x[ind_i-1]][seq_y[ind_j-1]]) , (alignment_matrix[ind_i-1][ind_j] + scoring_matrix[seq_x[ind_i-1]][\"-\"]))\n",
      "    return alignment_matrix\n",
      "\n",
      "\n",
      "def compute_global_alignment(seq_x, seq_y, scoring_matrix, alignment_matrix):\n",
      "    '''compute global alignment'''    \n",
      "    ind_i = len(seq_x)\n",
      "    ind_j = len(seq_y)\n",
      "    seq_x_new = ''\n",
      "    seq_y_new = ''\n",
      "    score = 0\n",
      "\n",
      "    while ind_i!=0 and ind_j!=0:\n",
      "        if alignment_matrix[ind_i][ind_j] == (alignment_matrix[ind_i-1][ind_j-1] + scoring_matrix[seq_x[ind_i-1]][seq_y[ind_j-1]]):\n",
      "                seq_x_new = seq_x[ind_i-1] + seq_x_new\n",
      "                seq_y_new = seq_y[ind_j-1] + seq_y_new\n",
      "                score += scoring_matrix[seq_x[ind_i-1]][seq_y[ind_j-1]]\n",
      "                ind_i-=1\n",
      "                ind_j-=1\n",
      "        else:\n",
      "            if alignment_matrix[ind_i][ind_j] == (alignment_matrix[ind_i][ind_j-1] + scoring_matrix['-'][seq_y[ind_j-1]]):\n",
      "                seq_y_new = seq_y[ind_j-1] + seq_y_new\n",
      "                seq_x_new = \"-\" + seq_x_new\n",
      "                score += scoring_matrix['-'][seq_y[ind_j-1]]\n",
      "                ind_j-=1\n",
      "            else:\n",
      "                if alignment_matrix[ind_i][ind_j] == (alignment_matrix[ind_i-1][ind_j] + scoring_matrix[seq_x[ind_i-1]][\"-\"]):\n",
      "                    seq_x_new = seq_x[ind_i-1] + seq_x_new\n",
      "                    seq_y_new = \"-\" + seq_y_new\n",
      "                    score += scoring_matrix[seq_x[ind_i-1]][\"-\"]\n",
      "                    ind_i-=1\n",
      "\n",
      "    while ind_i!=0:\n",
      "        seq_x_new = seq_x[ind_i-1] + seq_x_new\n",
      "        seq_y_new = \"-\" + seq_y_new\n",
      "        score += scoring_matrix[seq_x[ind_i-1]][\"-\"]\n",
      "        ind_i-=1\n",
      "\n",
      "    while ind_j!=0:\n",
      "        seq_y_new = seq_y[ind_j-1] + seq_y_new\n",
      "        seq_x_new = \"-\" + seq_x_new\n",
      "        score += scoring_matrix[\"-\"][seq_y[ind_j-1]]\n",
      "        ind_j-=1\n",
      "\n",
      "    return (score, seq_x_new,seq_y_new)\n",
      "\n",
      "def compute_local_alignment(seq_x, seq_y, scoring_matrix, alignment_matrix): \n",
      "    '''compute local alignment'''\n",
      "    ind_i=ind_j=0\n",
      "    seq_x_new = ''\n",
      "    seq_y_new = ''\n",
      "    score = 0\n",
      "    max_value = -float('inf')\n",
      "    for ind_x in range(0,len(seq_x)+1):\n",
      "        for ind_y in range(0,len(seq_y)+1):\n",
      "            if max_value < alignment_matrix[ind_x][ind_y]:\n",
      "                max_value = alignment_matrix[ind_x][ind_y]\n",
      "                ind_i = ind_x \n",
      "                ind_j = ind_y \n",
      "\n",
      "    while ind_i!=0 and ind_j!=0:\n",
      "        if alignment_matrix[ind_i][ind_j] == 0:\n",
      "            break\n",
      "\n",
      "        elif alignment_matrix[ind_i][ind_j] == (alignment_matrix[ind_i-1][ind_j-1] + scoring_matrix[seq_x[ind_i-1]][seq_y[ind_j-1]]):\n",
      "                seq_x_new = seq_x[ind_i-1] + seq_x_new\n",
      "                seq_y_new = seq_y[ind_j-1] + seq_y_new\n",
      "                score += scoring_matrix[seq_x[ind_i-1]][seq_y[ind_j-1]]\n",
      "                ind_i-=1\n",
      "                ind_j-=1\n",
      "        else:\n",
      "            if alignment_matrix[ind_i][ind_j] == (alignment_matrix[ind_i][ind_j-1] + scoring_matrix['-'][seq_y[ind_j-1]]):\n",
      "                seq_y_new = seq_y[ind_j-1] + seq_y_new\n",
      "                seq_x_new = \"-\" + seq_x_new\n",
      "                score += scoring_matrix['-'][seq_y[ind_j-1]]\n",
      "                ind_j-=1\n",
      "            else:\n",
      "                if alignment_matrix[ind_i][ind_j] == (alignment_matrix[ind_i-1][ind_j] + scoring_matrix[seq_x[ind_i-1]][\"-\"]):\n",
      "                    seq_x_new = seq_x[ind_i-1] + seq_x_new\n",
      "                    seq_y_new = \"-\" + seq_y_new\n",
      "                    score += scoring_matrix[seq_x[ind_i-1]][\"-\"]\n",
      "                    ind_i-=1\n",
      "    return (score, seq_x_new,seq_y_new)\n",
      "\n",
      "\"\"\"\n",
      "Provide code and solution for Application 4\n",
      "\"\"\"\n",
      "\n",
      "DESKTOP = True\n",
      "\n",
      "import math\n",
      "import random\n",
      "import urllib2\n",
      "\n",
      "if DESKTOP:\n",
      "    import matplotlib.pyplot as plt\n",
      "    #import alg_project4_solution as student\n",
      "else:\n",
      "    import simpleplot\n",
      "    import userXX_XXXXXXX as student\n",
      "    \n",
      "\n",
      "# URLs for data files\n",
      "PAM50_URL = \"http://storage.googleapis.com/codeskulptor-alg/alg_PAM50.txt\"\n",
      "HUMAN_EYELESS_URL = \"http://storage.googleapis.com/codeskulptor-alg/alg_HumanEyelessProtein.txt\"\n",
      "FRUITFLY_EYELESS_URL = \"http://storage.googleapis.com/codeskulptor-alg/alg_FruitflyEyelessProtein.txt\"\n",
      "CONSENSUS_PAX_URL = \"http://storage.googleapis.com/codeskulptor-alg/alg_ConsensusPAXDomain.txt\"\n",
      "WORD_LIST_URL = \"http://storage.googleapis.com/codeskulptor-assets/assets_scrabble_words3.txt\"\n",
      "\n",
      "\n",
      "\n",
      "###############################################\n",
      "# provided code\n",
      "\n",
      "def read_scoring_matrix(filename):\n",
      "    \"\"\"\n",
      "    Read a scoring matrix from the file named filename.  \n",
      "\n",
      "    Argument:\n",
      "    filename -- name of file containing a scoring matrix\n",
      "\n",
      "    Returns:\n",
      "    A dictionary of dictionaries mapping X and Y characters to scores\n",
      "    \"\"\"\n",
      "    scoring_dict = {}\n",
      "    scoring_file = urllib2.urlopen(filename)\n",
      "    ykeys = scoring_file.readline()\n",
      "    ykeychars = ykeys.split()\n",
      "    for line in scoring_file.readlines():\n",
      "        vals = line.split()\n",
      "        xkey = vals.pop(0)\n",
      "        scoring_dict[xkey] = {}\n",
      "        for ykey, val in zip(ykeychars, vals):\n",
      "            scoring_dict[xkey][ykey] = int(val)\n",
      "    return scoring_dict\n",
      "\n",
      "\n",
      "\n",
      "\n",
      "def read_protein(filename):\n",
      "    \"\"\"\n",
      "    Read a protein sequence from the file named filename.\n",
      "\n",
      "    Arguments:\n",
      "    filename -- name of file containing a protein sequence\n",
      "\n",
      "    Returns:\n",
      "    A string representing the protein\n",
      "    \"\"\"\n",
      "    protein_file = urllib2.urlopen(filename)\n",
      "    protein_seq = protein_file.read()\n",
      "    protein_seq = protein_seq.rstrip()\n",
      "    return protein_seq\n",
      "\n",
      "\n",
      "def read_words(filename):\n",
      "    \"\"\"\n",
      "    Load word list from the file named filename.\n",
      "\n",
      "    Returns a list of strings.\n",
      "    \"\"\"\n",
      "    # load assets\n",
      "    word_file = urllib2.urlopen(filename)\n",
      "    \n",
      "    # read in files as string\n",
      "    words = word_file.read()\n",
      "    \n",
      "    # template lines and solution lines list of line string\n",
      "    word_list = words.split('\\n')\n",
      "    print \"Loaded a dictionary with\", len(word_list), \"words\"\n",
      "    return word_list\n",
      "\n",
      "\n"
     ],
     "language": "python",
     "metadata": {},
     "outputs": [],
     "prompt_number": 1
    },
    {
     "cell_type": "code",
     "collapsed": false,
     "input": [
      "human_eyeless = read_protein(HUMAN_EYELESS_URL)\n",
      "fruitfly_eyeless = read_protein(FRUITFLY_EYELESS_URL)\n",
      "scoring_matrix = read_scoring_matrix(PAM50_URL)\n",
      "alignment_matrix = compute_alignment_matrix(human_eyeless, fruitfly_eyeless, scoring_matrix, False)\n"
     ],
     "language": "python",
     "metadata": {},
     "outputs": [],
     "prompt_number": 2
    },
    {
     "cell_type": "code",
     "collapsed": false,
     "input": [
      "score,human_1,fruit_1=compute_local_alignment(human_eyeless, fruitfly_eyeless, scoring_matrix, alignment_matrix)\n",
      "human_1 = \"\".join([x for x in list(human_1) if x != \"-\"])\n",
      "fruit_1 = \"\".join([x for x in list(fruit_1) if x != \"-\"])"
     ],
     "language": "python",
     "metadata": {},
     "outputs": [],
     "prompt_number": 3
    },
    {
     "cell_type": "code",
     "collapsed": false,
     "input": [
      "pax_Domain = read_protein(CONSENSUS_PAX_URL)\n",
      "\n",
      "h_p_alignment_matrix = compute_alignment_matrix(human_1, pax_Domain, scoring_matrix, True)\n",
      "f_p_alignment_matrix = compute_alignment_matrix(fruit_1, pax_Domain, scoring_matrix, True)\n",
      "score2,human2,pax2=compute_global_alignment(human_1, pax_Domain, scoring_matrix, h_p_alignment_matrix)\n",
      "match = 0\n",
      "for i in range(0,len(pax2)):\n",
      "    if human2[i]==pax2[i] and pax2[i]!='-':\n",
      "        match+=1\n",
      "print float(match)/len(pax2)\n",
      "\n",
      "score2,fruit2,pax2=compute_global_alignment(fruit_1, pax_Domain, scoring_matrix, f_p_alignment_matrix)\n",
      "match = 0\n",
      "for i in range(0,len(pax2)):\n",
      "    if fruit2[i]==pax2[i] and pax2[i]!='-':\n",
      "        match+=1\n",
      "print float(match)/len(pax2)"
     ],
     "language": "python",
     "metadata": {},
     "outputs": [
      {
       "output_type": "stream",
       "stream": "stdout",
       "text": [
        "0.729323308271\n",
        "0.701492537313\n"
       ]
      }
     ],
     "prompt_number": 4
    },
    {
     "cell_type": "code",
     "collapsed": false,
     "input": [
      "import random\n",
      "def generate_null_distribution(seq_x, seq_y, scoring_matrix, num_trials):\n",
      "    scoring_dist = {}\n",
      "    for i in range(num_trials):\n",
      "        rand_y = list(seq_y)\n",
      "        random.shuffle(rand_y)\n",
      "        rand_y = \"\".join(rand_y)\n",
      "        alignment_matrix = compute_alignment_matrix(seq_x, rand_y, scoring_matrix, False)\n",
      "        score,_,_=compute_local_alignment(seq_x, rand_y, scoring_matrix, alignment_matrix)\n",
      "        if score in scoring_dist:\n",
      "            scoring_dist[score]+=1\n",
      "        else:\n",
      "            scoring_dist[score]=1\n",
      "    return scoring_dist\n",
      "          "
     ],
     "language": "python",
     "metadata": {},
     "outputs": [],
     "prompt_number": 5
    },
    {
     "cell_type": "code",
     "collapsed": false,
     "input": [
      "scoring_dist = generate_null_distribution(human_eyeless, fruitfly_eyeless, scoring_matrix, 1000)"
     ],
     "language": "python",
     "metadata": {},
     "outputs": []
    },
    {
     "cell_type": "code",
     "collapsed": false,
     "input": [
      "%pylab inline  \n",
      "\n",
      "x = scoring_dist.keys()\n",
      "y = map(lambda x: x/float(sum(scoring_dist.values())) ,scoring_dist.values())\n",
      "plt.bar(x, y, .75, color=\"blue\")\n",
      "plt.xlabel('Scores')\n",
      "plt.ylabel('Normalized Counts')\n",
      "plt.title('Count of Scores')"
     ],
     "language": "python",
     "metadata": {},
     "outputs": []
    },
    {
     "cell_type": "code",
     "collapsed": false,
     "input": [
      "score_sum = 0\n",
      "for k,v in scoring_dist.iteritems():\n",
      "    score_sum+=k*v\n",
      "mean_score = score_sum/1000.0 \n",
      "\n",
      "SSE = 0\n",
      "for k,v in scoring_dist.iteritems():\n",
      "    SSE+=k*((v-mean_score)**2)\n",
      "st_dev = math.sqrt(SSE/1000.0)\n",
      "\n",
      "Z = (score - mean_score)/st_dev\n",
      "print score\n",
      "print \"Mean:\",mean_score\n",
      "print \"Standard_Deviation:\",st_dev\n",
      "print \"Z_score:\",Z"
     ],
     "language": "python",
     "metadata": {},
     "outputs": []
    },
    {
     "cell_type": "code",
     "collapsed": false,
     "input": [
      "words = read_words(WORD_LIST_URL)"
     ],
     "language": "python",
     "metadata": {},
     "outputs": [
      {
       "output_type": "stream",
       "stream": "stdout",
       "text": [
        "Loaded a dictionary with 79340 words\n"
       ]
      }
     ],
     "prompt_number": 7
    },
    {
     "cell_type": "code",
     "collapsed": false,
     "input": [
      "alphabet = 'abcdefghijklmnopqrstuvwxyz'\n",
      "diag_score = 2\n",
      "off_diag_score = 1\n",
      "dash_score = 0\n",
      "scor_matrix = build_scoring_matrix(alphabet, diag_score, off_diag_score, dash_score)\n"
     ],
     "language": "python",
     "metadata": {},
     "outputs": [],
     "prompt_number": 44
    },
    {
     "cell_type": "code",
     "collapsed": false,
     "input": [
      "def check_spelling(checked_word, dist, word_list, scor_matrix):\n",
      "    sim_words = []\n",
      "    for word in word_list:\n",
      "        alignment_matrix = compute_alignment_matrix(word, checked_word, scor_matrix, True)\n",
      "        score,_,_ = compute_global_alignment(word, checked_word, scor_matrix, alignment_matrix)\n",
      "        if (len(checked_word) + len(word) - score) <= dist:\n",
      "            print word+\",\",\n",
      "           "
     ],
     "language": "python",
     "metadata": {},
     "outputs": [],
     "prompt_number": 55
    },
    {
     "cell_type": "code",
     "collapsed": false,
     "input": [
      "check_spelling('firefly', 2, words, scor_matrix)"
     ],
     "language": "python",
     "metadata": {},
     "outputs": [
      {
       "output_type": "stream",
       "stream": "stdout",
       "text": [
        "direly, "
       ]
      },
      {
       "output_type": "stream",
       "stream": "stdout",
       "text": [
        "finely, fireclay, firefly, firmly, firstly, fixedly, "
       ]
      },
      {
       "output_type": "stream",
       "stream": "stdout",
       "text": [
        "freely, "
       ]
      },
      {
       "output_type": "stream",
       "stream": "stdout",
       "text": [
        "liefly, "
       ]
      },
      {
       "output_type": "stream",
       "stream": "stdout",
       "text": [
        "refly, "
       ]
      },
      {
       "output_type": "stream",
       "stream": "stdout",
       "text": [
        "tiredly,\n"
       ]
      }
     ],
     "prompt_number": 57
    },
    {
     "cell_type": "code",
     "collapsed": false,
     "input": [
      "alignment_matrix = compute_alignment_matrix('firefly', 'firelfy', scor_matrix, True)\n",
      "compute_global_alignment('firefl', 'firelfy', scor_matrix, alignment_matrix)"
     ],
     "language": "python",
     "metadata": {},
     "outputs": [
      {
       "metadata": {},
       "output_type": "pyout",
       "prompt_number": 48,
       "text": [
        "(11, 'fire-fl', 'firelfy')"
       ]
      }
     ],
     "prompt_number": 48
    }
   ],
   "metadata": {}
  }
 ]
}